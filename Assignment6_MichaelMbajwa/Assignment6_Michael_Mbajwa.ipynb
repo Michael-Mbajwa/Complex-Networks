{
 "cells": [
  {
   "cell_type": "markdown",
   "metadata": {},
   "source": [
    "# Assignment 5\n",
    "\n",
    "## Using Dataset 5"
   ]
  },
  {
   "cell_type": "code",
   "execution_count": 1,
   "metadata": {},
   "outputs": [],
   "source": [
    "import networkx as nx\n",
    "import networkx.algorithms.community as nx_comm\n",
    "import numpy as np\n",
    "import matplotlib.pyplot as plt\n",
    "from random import sample, seed\n",
    "import seaborn as sns\n",
    "import itertools\n",
    "import os\n",
    "import math\n",
    "from collections import defaultdict"
   ]
  },
  {
   "cell_type": "code",
   "execution_count": 2,
   "metadata": {},
   "outputs": [],
   "source": [
    "facebook_edges_filepath = \"/Users/michaelmbajwa/Desktop/Semester3/ComplexNetworks/Complex-Networks_exercise-main/Datasets/Group5/Facebook-Ego/686.edges\"\n",
    "twitter_edges_filepath = \"/Users/michaelmbajwa/Desktop/Semester3/ComplexNetworks/Complex-Networks_exercise-main/Datasets/Group5/Twitter-Ego/1435461.edges\""
   ]
  },
  {
   "cell_type": "code",
   "execution_count": 3,
   "metadata": {},
   "outputs": [],
   "source": [
    "# Load the /.edges files\n",
    "# Facebook is an undirected network\n",
    "graphFacebook = nx.read_edgelist(facebook_edges_filepath, create_using=nx.Graph())\n",
    "\n",
    "# Twitter is a directed network\n",
    "graphTwitter = nx.read_edgelist(twitter_edges_filepath, create_using=nx.DiGraph())"
   ]
  },
  {
   "cell_type": "code",
   "execution_count": 4,
   "metadata": {},
   "outputs": [
    {
     "name": "stdout",
     "output_type": "stream",
     "text": [
      "Number of nodes = 168, edges = 1656 in facebook graph.\n",
      "Number of nodes = 129, edges = 8037 in Twitter graph.\n"
     ]
    }
   ],
   "source": [
    "# Basic attributes check\n",
    "print(\"Number of nodes = {}, edges = {} in facebook graph.\".format(graphFacebook.number_of_nodes(), graphFacebook.number_of_edges()))\n",
    "print(\"Number of nodes = {}, edges = {} in Twitter graph.\".format(graphTwitter.number_of_nodes(), graphTwitter.number_of_edges()))"
   ]
  },
  {
   "cell_type": "markdown",
   "metadata": {},
   "source": [
    "## Question A\n",
    "\n",
    "### Please randomly choose two sets of nodes in Facebook-Ego dataset (each consists of 50 nodes without repetition), and calculate the cut size and conductance between the two sets of nodes. Please also plot the partitioning"
   ]
  },
  {
   "cell_type": "code",
   "execution_count": null,
   "metadata": {},
   "outputs": [],
   "source": [
    "# Get random sample of 100 nodes\n",
    "seed(560)\n",
    "hundred_nodes_facebook = sample(graphFacebook.nodes(), 100)\n",
    "\n",
    "setA_nodes = hundred_nodes_facebook[:50]\n",
    "setB_nodes = hundred_nodes_facebook[50:]\n",
    "\n",
    "# Create the sub graph using the select 10 nodes\n",
    "subgraphFacebook = graphFacebook.subgraph(ten_nodes_facebook).copy()\n",
    "\n",
    "# Plot the largest connected component\n",
    "plot_graph_structure(subgraphFacebook, 'Facebook subgraph')"
   ]
  }
 ],
 "metadata": {
  "kernelspec": {
   "display_name": "Python 3.9.13 64-bit",
   "language": "python",
   "name": "python3"
  },
  "language_info": {
   "codemirror_mode": {
    "name": "ipython",
    "version": 3
   },
   "file_extension": ".py",
   "mimetype": "text/x-python",
   "name": "python",
   "nbconvert_exporter": "python",
   "pygments_lexer": "ipython3",
   "version": "3.9.13"
  },
  "orig_nbformat": 4,
  "vscode": {
   "interpreter": {
    "hash": "aee8b7b246df8f9039afb4144a1f6fd8d2ca17a180786b69acc140d282b71a49"
   }
  }
 },
 "nbformat": 4,
 "nbformat_minor": 2
}
